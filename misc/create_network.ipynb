{
 "cells": [
  {
   "cell_type": "code",
   "execution_count": null,
   "metadata": {},
   "outputs": [],
   "source": [
    "[\n",
    "    [1, 1, 0, 0, 0, 0],\n",
    "    [0, 0, 1, 1, 0, 0],\n",
    "    [0, 0, 0, 0, 1, 1]\n",
    "]\n",
    "\n",
    "\n",
    "[\n",
    "    [1, 0, 0, 0, 0, 0],\n",
    "    [0, 0, 0, 0, 0, 0],\n",
    "    [1, 0, 0, 0, 0, 0],\n",
    "    [0, 0, 0, 0, 0, 0],\n",
    "    [0, 0, 0, 0, 0, 0],\n",
    "    [1, 0, 0, 0, 0, 0],\n",
    "    [-1, 0, 0, 1, 0, 0],\n",
    "    [0, -1, 0, 0, 0, 0],\n",
    "    [0, 0, -1, 0, 0, 0],\n",
    "    [0, 0, 0, -1, 1, 0],\n",
    "    [0, 0, 0, 0, -1, 0],\n",
    "    [0, 1, 0, 0, 0, -1]\n",
    "]\n",
    "\n"
   ]
  },
  {
   "cell_type": "code",
   "execution_count": 5,
   "metadata": {},
   "outputs": [
    {
     "data": {
      "text/plain": [
       "array([[ 1.,  0.,  0.,  0.,  0.,  0.],\n",
       "       [ 0.,  0.,  0.,  0.,  0.,  0.],\n",
       "       [ 0.,  0.,  0.,  0.,  0.,  0.],\n",
       "       [ 0.,  0.,  0.,  0.,  0.,  0.],\n",
       "       [ 0.,  0.,  0.,  0.,  0.,  0.],\n",
       "       [ 0.,  0.,  0.,  0.,  0.,  0.],\n",
       "       [-1.,  0.,  0.,  1.,  0.,  0.],\n",
       "       [ 0., -1.,  0.,  0.,  1.,  0.],\n",
       "       [ 0.,  0., -1.,  0.,  0.,  1.],\n",
       "       [ 0.,  1.,  0., -1.,  0.,  0.],\n",
       "       [ 0.,  0.,  1.,  0., -1.,  0.],\n",
       "       [ 0.,  0.,  0.,  0.,  0., -1.]], dtype=float32)"
      ]
     },
     "execution_count": 5,
     "metadata": {},
     "output_type": "execute_result"
    }
   ],
   "source": [
    "import numpy as np\n",
    "\n",
    "np.load('/user/hc3295/queue-learning/configs/env_data/re-reentrant_2/re-reentrant_2_delta.npy')\n"
   ]
  },
  {
   "cell_type": "code",
   "execution_count": 4,
   "metadata": {},
   "outputs": [
    {
     "data": {
      "text/plain": [
       "array([[1., 1., 1., 0., 0., 0.],\n",
       "       [0., 0., 0., 1., 1., 1.]], dtype=float32)"
      ]
     },
     "execution_count": 4,
     "metadata": {},
     "output_type": "execute_result"
    }
   ],
   "source": [
    "import numpy as np\n",
    "\n",
    "np.load('/user/hc3295/queue-learning/configs/env_data/re-reentrant_2/re-reentrant_2_network.npy')\n"
   ]
  },
  {
   "cell_type": "code",
   "execution_count": 1,
   "metadata": {},
   "outputs": [
    {
     "data": {
      "text/plain": [
       "0.018181818184"
      ]
     },
     "execution_count": 1,
     "metadata": {},
     "output_type": "execute_result"
    }
   ],
   "source": [
    "0.02272727273 * 0.8"
   ]
  },
  {
   "cell_type": "code",
   "execution_count": null,
   "metadata": {},
   "outputs": [],
   "source": []
  },
  {
   "cell_type": "code",
   "execution_count": 2,
   "metadata": {},
   "outputs": [
    {
     "data": {
      "text/plain": [
       "[[0.2162162162162162, 0, 0.2777777777777778, 0, 0, 0, 0, 0],\n",
       " [0, 0, 0, 0, 0.2222222222222222, 0, 0, 0.2],\n",
       " [0, 0, 0.2777777777777778, 0, 0, 0, 0, 0],\n",
       " [0, 0, 0.2777777777777778, 0, 0, 0, 0, 0.25],\n",
       " [0, 0.22727272727272727, 0, 0, 0, 0, 0, 0],\n",
       " [0, 0.22727272727272727, 0, 0, 0, 0, 0, 0],\n",
       " [0, 0, 0, 0, 0.2222222222222222, 0.2162162162162162, 0, 0],\n",
       " [0, 0.22727272727272727, 0.2777777777777778, 0, 0, 0, 0, 0],\n",
       " [0, 0, 0, 0, 0, 0, 0.2222222222222222, 0],\n",
       " [0.27027027027027023, 0, 0, 0, 0, 0, 0, 0],\n",
       " [0, 0, 0, 0, 0, 0.27027027027027023, 0, 0],\n",
       " [0.27027027027027023, 0, 0, 0, 0, 0, 0, 0],\n",
       " [0, 0, 0, 0.2777777777777778, 0, 0, 0, 0]]"
      ]
     },
     "execution_count": 2,
     "metadata": {},
     "output_type": "execute_result"
    }
   ],
   "source": [
    "[[1/3.7 * 0.8, 0, 1/3.6, 0, 0, 0, 0, 0],[0, 0, 0, 0, 1/4.5, 0, 0, 1/4.0*0.8],[0, 0, 1/3.6, 0, 0, 0, 0, 0],[0, 0, 1/3.6, 0, 0, 0, 0, 1/4.0],[0, 1/4.4, 0, 0, 0, 0, 0, 0],[0, 1/4.4, 0, 0, 0, 0, 0, 0],[0, 0, 0, 0, 1/4.5, 1/3.7*0.8, 0, 0],[0, 1/4.4, 1/3.6, 0, 0, 0, 0, 0],[0, 0, 0, 0, 0, 0, 1/4.5, 0],[1/3.7, 0, 0, 0, 0, 0, 0, 0],[0, 0, 0, 0, 0, 1/3.7, 0, 0],[1/3.7, 0, 0, 0, 0, 0, 0, 0],[0, 0, 0, 1/3.6, 0, 0, 0, 0]]"
   ]
  },
  {
   "cell_type": "code",
   "execution_count": 11,
   "metadata": {},
   "outputs": [
    {
     "data": {
      "text/plain": [
       "[8, 8, 8, 8, 8, 8, 8, 8, 8, 8, 8, 8, 8]"
      ]
     },
     "execution_count": 11,
     "metadata": {},
     "output_type": "execute_result"
    }
   ],
   "source": [
    "[len(i) for i in [[1/44.0 * 0.8, 0, 1/44.0, 0, 0, 0, 0, 0],[0, 0, 0, 0, 1/44.0, 0, 0, 1/44.0*0.8],[0, 0, 1/44.0, 0, 0, 0, 0, 0],[0, 0, 1/44.0, 0, 0, 0, 0, 1/44.0],[0, 1/39.0, 0, 0, 0, 0, 0, 0],[0, 1/26.0, 0, 0, 0, 0, 0, 0],[0, 0, 0, 0, 1/46.0, 1/46.0*0.8, 0, 0],[0, 1/50.0, 1/50.0, 0, 0, 0, 0, 0],[0, 0, 0, 0, 0, 0, 1/35.0, 0],[1/17.0, 0, 0, 0, 0, 0, 0, 0],[0, 0, 0, 0, 0, 1/14.0, 0, 0],[1/44.0, 0, 0, 0, 0, 0, 0, 0],[0, 0, 0, 1/50.0, 0, 0, 0, 0]]]"
   ]
  }
 ],
 "metadata": {
  "kernelspec": {
   "display_name": "Python 3",
   "language": "python",
   "name": "python3"
  },
  "language_info": {
   "codemirror_mode": {
    "name": "ipython",
    "version": 3
   },
   "file_extension": ".py",
   "mimetype": "text/x-python",
   "name": "python",
   "nbconvert_exporter": "python",
   "pygments_lexer": "ipython3",
   "version": "3.9.7"
  }
 },
 "nbformat": 4,
 "nbformat_minor": 2
}
